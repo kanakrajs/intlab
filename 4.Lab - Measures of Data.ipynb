{
 "cells": [
  {
   "cell_type": "markdown",
   "metadata": {},
   "source": [
    "## Lab Brief - Statistical Learning with Python"
   ]
  },
  {
   "cell_type": "markdown",
   "metadata": {},
   "source": [
    "### Part-1"
   ]
  },
  {
   "cell_type": "markdown",
   "metadata": {},
   "source": [
    "## Measures of Data"
   ]
  },
  {
   "cell_type": "markdown",
   "metadata": {},
   "source": [
    "Descriptive Statistcs are measures that summarize important features of data. Producing these descriptive statistics is a common first step to take after cleaning and preparing a dataset for further analysis. Examples are like calculating Mean or Median. In this lab, we will be looking into some of these functions and explore several new ones."
   ]
  },
  {
   "cell_type": "markdown",
   "metadata": {},
   "source": [
    "#### Measures of Central Tendency"
   ]
  },
  {
   "cell_type": "markdown",
   "metadata": {},
   "source": [
    "Whenever you measure things of the same kind, a fairly large number of such measurements will tend to cluster around the middle value. Such a value is called a measure of \"Central Tendency\". The other terms that are used synonymously are \"Measures of Location\", or \"Statistical Averages\". "
   ]
  },
  {
   "cell_type": "code",
   "execution_count": 1,
   "metadata": {},
   "outputs": [],
   "source": [
    "import numpy as np\n",
    "import pandas as pd\n",
    "import matplotlib.pyplot as plt\n",
    "\n",
    "mtcars = pd.read_csv('mtcars.csv')"
   ]
  },
  {
   "cell_type": "markdown",
   "metadata": {},
   "source": [
    "##### Using the mtcars dataset.\n",
    "\n",
    "For the below set of questions, we will be using the cars data from [Motor Trend Car Road Tests](http://stat.ethz.ch/R-manual/R-devel/library/datasets/html/mtcars.html)\n",
    "\n",
    "The data was extracted from the 1974 Motor Trend US magazine, and comprises fuel consumption and 10 aspects of automobile design and performance for 32 automobiles (1973–74 models). \n",
    "\n",
    "\n",
    "Details :\n",
    "    \n",
    "A data frame with 32 observations on 11 (numeric) variables.\n",
    "\n",
    "[, 1] \tmpg \tMiles/(US) gallon\n",
    "\n",
    "[, 2] \tcyl \tNumber of cylinders\n",
    "\n",
    "[, 3] \tdisp \tDisplacement (cu.in.)\n",
    "\n",
    "[, 4] \thp \tGross horsepower\n",
    "\n",
    "[, 5] \tdrat \tRear axle ratio\n",
    "\n",
    "[, 6] \twt \tWeight (1000 lbs)\n",
    "\n",
    "[, 7] \tqsec \t1/4 mile time\n",
    "\n",
    "[, 8] \tvs \tEngine (0 = V-shaped, 1 = straight)\n",
    "\n",
    "[, 9] \tam \tTransmission (0 = automatic, 1 = manual)\n",
    "\n",
    "[,10] \tgear \tNumber of forward gears\n",
    "\n",
    "[,11] \tcarb \tNumber of carburetors "
   ]
  },
  {
   "cell_type": "markdown",
   "metadata": {},
   "source": [
    "#### Explore the data - Setting the index"
   ]
  },
  {
   "cell_type": "code",
   "execution_count": 48,
   "metadata": {},
   "outputs": [
    {
     "data": {
      "text/html": [
       "<div>\n",
       "<style scoped>\n",
       "    .dataframe tbody tr th:only-of-type {\n",
       "        vertical-align: middle;\n",
       "    }\n",
       "\n",
       "    .dataframe tbody tr th {\n",
       "        vertical-align: top;\n",
       "    }\n",
       "\n",
       "    .dataframe thead th {\n",
       "        text-align: right;\n",
       "    }\n",
       "</style>\n",
       "<table border=\"1\" class=\"dataframe\">\n",
       "  <thead>\n",
       "    <tr style=\"text-align: right;\">\n",
       "      <th></th>\n",
       "      <th>name</th>\n",
       "      <th>mpg</th>\n",
       "      <th>cyl</th>\n",
       "      <th>disp</th>\n",
       "      <th>hp</th>\n",
       "      <th>drat</th>\n",
       "      <th>wt</th>\n",
       "      <th>qsec</th>\n",
       "      <th>vs</th>\n",
       "      <th>am</th>\n",
       "      <th>gear</th>\n",
       "      <th>carb</th>\n",
       "    </tr>\n",
       "    <tr>\n",
       "      <th>name</th>\n",
       "      <th></th>\n",
       "      <th></th>\n",
       "      <th></th>\n",
       "      <th></th>\n",
       "      <th></th>\n",
       "      <th></th>\n",
       "      <th></th>\n",
       "      <th></th>\n",
       "      <th></th>\n",
       "      <th></th>\n",
       "      <th></th>\n",
       "      <th></th>\n",
       "    </tr>\n",
       "  </thead>\n",
       "  <tbody>\n",
       "    <tr>\n",
       "      <th>Mazda RX4</th>\n",
       "      <td>Mazda RX4</td>\n",
       "      <td>21.0</td>\n",
       "      <td>6</td>\n",
       "      <td>160.0</td>\n",
       "      <td>110</td>\n",
       "      <td>3.90</td>\n",
       "      <td>2.620</td>\n",
       "      <td>16.46</td>\n",
       "      <td>0</td>\n",
       "      <td>1</td>\n",
       "      <td>4</td>\n",
       "      <td>4</td>\n",
       "    </tr>\n",
       "    <tr>\n",
       "      <th>Mazda RX4 Wag</th>\n",
       "      <td>Mazda RX4 Wag</td>\n",
       "      <td>21.0</td>\n",
       "      <td>6</td>\n",
       "      <td>160.0</td>\n",
       "      <td>110</td>\n",
       "      <td>3.90</td>\n",
       "      <td>2.875</td>\n",
       "      <td>17.02</td>\n",
       "      <td>0</td>\n",
       "      <td>1</td>\n",
       "      <td>4</td>\n",
       "      <td>4</td>\n",
       "    </tr>\n",
       "    <tr>\n",
       "      <th>Datsun 710</th>\n",
       "      <td>Datsun 710</td>\n",
       "      <td>22.8</td>\n",
       "      <td>4</td>\n",
       "      <td>108.0</td>\n",
       "      <td>93</td>\n",
       "      <td>3.85</td>\n",
       "      <td>2.320</td>\n",
       "      <td>18.61</td>\n",
       "      <td>1</td>\n",
       "      <td>1</td>\n",
       "      <td>4</td>\n",
       "      <td>1</td>\n",
       "    </tr>\n",
       "    <tr>\n",
       "      <th>Hornet 4 Drive</th>\n",
       "      <td>Hornet 4 Drive</td>\n",
       "      <td>21.4</td>\n",
       "      <td>6</td>\n",
       "      <td>258.0</td>\n",
       "      <td>110</td>\n",
       "      <td>3.08</td>\n",
       "      <td>3.215</td>\n",
       "      <td>19.44</td>\n",
       "      <td>1</td>\n",
       "      <td>0</td>\n",
       "      <td>3</td>\n",
       "      <td>1</td>\n",
       "    </tr>\n",
       "    <tr>\n",
       "      <th>Hornet Sportabout</th>\n",
       "      <td>Hornet Sportabout</td>\n",
       "      <td>18.7</td>\n",
       "      <td>8</td>\n",
       "      <td>360.0</td>\n",
       "      <td>175</td>\n",
       "      <td>3.15</td>\n",
       "      <td>3.440</td>\n",
       "      <td>17.02</td>\n",
       "      <td>0</td>\n",
       "      <td>0</td>\n",
       "      <td>3</td>\n",
       "      <td>2</td>\n",
       "    </tr>\n",
       "  </tbody>\n",
       "</table>\n",
       "</div>"
      ],
      "text/plain": [
       "                                name   mpg  cyl   disp   hp  drat     wt  \\\n",
       "name                                                                       \n",
       "Mazda RX4                  Mazda RX4  21.0    6  160.0  110  3.90  2.620   \n",
       "Mazda RX4 Wag          Mazda RX4 Wag  21.0    6  160.0  110  3.90  2.875   \n",
       "Datsun 710                Datsun 710  22.8    4  108.0   93  3.85  2.320   \n",
       "Hornet 4 Drive        Hornet 4 Drive  21.4    6  258.0  110  3.08  3.215   \n",
       "Hornet Sportabout  Hornet Sportabout  18.7    8  360.0  175  3.15  3.440   \n",
       "\n",
       "                    qsec  vs  am  gear  carb  \n",
       "name                                          \n",
       "Mazda RX4          16.46   0   1     4     4  \n",
       "Mazda RX4 Wag      17.02   0   1     4     4  \n",
       "Datsun 710         18.61   1   1     4     1  \n",
       "Hornet 4 Drive     19.44   1   0     3     1  \n",
       "Hornet Sportabout  17.02   0   0     3     2  "
      ]
     },
     "execution_count": 48,
     "metadata": {},
     "output_type": "execute_result"
    }
   ],
   "source": [
    "mtcars.index = mtcars[\"name\"]\n",
    "mtcars.head()\n",
    "# mtcars.mean() #By default this will give the mean of each column"
   ]
  },
  {
   "cell_type": "markdown",
   "metadata": {},
   "source": [
    "### Question 1\n",
    "\n",
    "What is the first car name given in mtcars?\n",
    "\n",
    "** Make use of index which has been set previously **\n",
    "\n",
    "**Hint**: Use .loc function\n"
   ]
  },
  {
   "cell_type": "code",
   "execution_count": 20,
   "metadata": {
    "scrolled": true
   },
   "outputs": [
    {
     "data": {
      "text/plain": [
       "'Mazda RX4'"
      ]
     },
     "execution_count": 20,
     "metadata": {},
     "output_type": "execute_result"
    }
   ],
   "source": [
    "a=mtcars.loc['Mazda RX4','name']\n",
    "a"
   ]
  },
  {
   "cell_type": "markdown",
   "metadata": {},
   "source": [
    "### Question 2\n",
    "What is the highest difference between the hp and cyl?\n",
    "\n",
    "**Hint:** You can use **max()** function to find the difference"
   ]
  },
  {
   "cell_type": "code",
   "execution_count": 25,
   "metadata": {},
   "outputs": [
    {
     "data": {
      "text/plain": [
       "331"
      ]
     },
     "execution_count": 25,
     "metadata": {},
     "output_type": "execute_result"
    }
   ],
   "source": [
    "max(mtcars.loc[:,'hp'])-min(mtcars.loc[:,'cyl'])"
   ]
  },
  {
   "cell_type": "markdown",
   "metadata": {},
   "source": [
    "### Question 3\n",
    "What are the cars having highest weight(wt) and lowest weight(wt)?\n",
    "\n",
    "**Hint:** Use idxmax() and idxmin() to locate the row\n",
    "\n",
    "Use **.iloc** function to print the  row\n",
    "\n",
    "**Note:** Both idxmax and idxmin belong to pandas"
   ]
  },
  {
   "cell_type": "code",
   "execution_count": 55,
   "metadata": {},
   "outputs": [],
   "source": [
    "s=pd.DataFrame(mtcars)"
   ]
  },
  {
   "cell_type": "code",
   "execution_count": 63,
   "metadata": {},
   "outputs": [
    {
     "data": {
      "text/plain": [
       "name    Lincoln Continental\n",
       "mpg                    10.4\n",
       "cyl                       8\n",
       "disp                    460\n",
       "hp                      215\n",
       "drat                      3\n",
       "wt                    5.424\n",
       "qsec                  17.82\n",
       "vs                        0\n",
       "am                        0\n",
       "gear                      3\n",
       "carb                      4\n",
       "Name: Lincoln Continental, dtype: object"
      ]
     },
     "execution_count": 63,
     "metadata": {},
     "output_type": "execute_result"
    }
   ],
   "source": [
    "s['wt'].idxmax()\n",
    "s.iloc[s.index.get_loc(s['wt'].idxmax())]"
   ]
  },
  {
   "cell_type": "code",
   "execution_count": 64,
   "metadata": {},
   "outputs": [
    {
     "data": {
      "text/plain": [
       "name    Lotus Europa\n",
       "mpg             30.4\n",
       "cyl                4\n",
       "disp            95.1\n",
       "hp               113\n",
       "drat            3.77\n",
       "wt             1.513\n",
       "qsec            16.9\n",
       "vs                 1\n",
       "am                 1\n",
       "gear               5\n",
       "carb               2\n",
       "Name: Lotus Europa, dtype: object"
      ]
     },
     "execution_count": 64,
     "metadata": {},
     "output_type": "execute_result"
    }
   ],
   "source": [
    "s['wt'].idxmin()\n",
    "s.iloc[s.index.get_loc(s['wt'].idxmin())]"
   ]
  },
  {
   "cell_type": "markdown",
   "metadata": {},
   "source": [
    "### Question 4\n",
    "\n",
    "Find the mean of each row and each column in the given dataset.\n",
    "\n",
    "**Hint:** Use .mean() function. To operate on rows use **axis=0**, on columns use **axis=1**"
   ]
  },
  {
   "cell_type": "code",
   "execution_count": 73,
   "metadata": {},
   "outputs": [
    {
     "data": {
      "text/plain": [
       "mpg      20.090625\n",
       "cyl       6.187500\n",
       "disp    230.721875\n",
       "hp      146.687500\n",
       "drat      3.596563\n",
       "wt        3.217250\n",
       "qsec     17.848750\n",
       "vs        0.437500\n",
       "am        0.406250\n",
       "gear      3.687500\n",
       "carb      2.812500\n",
       "dtype: float64"
      ]
     },
     "execution_count": 73,
     "metadata": {},
     "output_type": "execute_result"
    }
   ],
   "source": [
    "row_mean=s.mean()\n",
    "row_mean"
   ]
  },
  {
   "cell_type": "code",
   "execution_count": 72,
   "metadata": {},
   "outputs": [
    {
     "data": {
      "text/plain": [
       "name\n",
       "Mazda RX4              29.907273\n",
       "Mazda RX4 Wag          29.981364\n",
       "Datsun 710             23.598182\n",
       "Hornet 4 Drive         38.739545\n",
       "Hornet Sportabout      53.664545\n",
       "Valiant                35.049091\n",
       "Duster 360             59.720000\n",
       "Merc 240D              24.634545\n",
       "Merc 230               27.233636\n",
       "Merc 280               31.860000\n",
       "Merc 280C              31.787273\n",
       "Merc 450SE             46.430909\n",
       "Merc 450SL             46.500000\n",
       "Merc 450SLC            46.350000\n",
       "Cadillac Fleetwood     66.232727\n",
       "Lincoln Continental    66.058545\n",
       "Chrysler Imperial      65.972273\n",
       "Fiat 128               19.440909\n",
       "Honda Civic            17.742273\n",
       "Toyota Corolla         18.814091\n",
       "Toyota Corona          24.888636\n",
       "Dodge Challenger       47.240909\n",
       "AMC Javelin            46.007727\n",
       "Camaro Z28             58.752727\n",
       "Pontiac Firebird       57.379545\n",
       "Fiat X1-9              18.928636\n",
       "Porsche 914-2          24.779091\n",
       "Lotus Europa           24.880273\n",
       "Ford Pantera L         60.971818\n",
       "Ferrari Dino           34.508182\n",
       "Maserati Bora          63.155455\n",
       "Volvo 142E             26.262727\n",
       "dtype: float64"
      ]
     },
     "execution_count": 72,
     "metadata": {},
     "output_type": "execute_result"
    }
   ],
   "source": [
    "col_mean=s.mean(axis=1)\n",
    "col_mean"
   ]
  },
  {
   "cell_type": "markdown",
   "metadata": {},
   "source": [
    "### Question 5\n",
    "\n",
    "Plot mpg values of mtcards dataframe using matplotlib.\n",
    "\n",
    "**Hint: Use plt.plot function**"
   ]
  },
  {
   "cell_type": "code",
   "execution_count": 71,
   "metadata": {},
   "outputs": [
    {
     "data": {
      "text/plain": [
       "[<matplotlib.lines.Line2D at 0x13e8614ef28>]"
      ]
     },
     "execution_count": 71,
     "metadata": {},
     "output_type": "execute_result"
    },
    {
     "data": {
      "image/png": "[encoded data removed]",
      "text/plain": [
       "<Figure size 432x288 with 1 Axes>"
      ]
     },
     "metadata": {},
     "output_type": "display_data"
    }
   ],
   "source": [
    "plt.plot(s['mpg'])"
   ]
  },
  {
   "cell_type": "code",
   "execution_count": null,
   "metadata": {},
   "outputs": [],
   "source": []
  },
  {
   "cell_type": "markdown",
   "metadata": {},
   "source": [
    "## Part 2"
   ]
  },
  {
   "cell_type": "markdown",
   "metadata": {},
   "source": [
    "## Measures of Dispersion"
   ]
  },
  {
   "cell_type": "markdown",
   "metadata": {},
   "source": [
    "Measures of Dispersion (Spread) are statistics that describe how data varies. Measure of dispersion gives us the sense of how much the data tends to diverge from the central tendency."
   ]
  },
  {
   "cell_type": "markdown",
   "metadata": {},
   "source": [
    "### Question 6\n",
    "\n",
    "What the range of `mpg` in the given dataset?\n",
    "\n",
    "**Hint:** Range = max-min"
   ]
  },
  {
   "cell_type": "code",
   "execution_count": 75,
   "metadata": {},
   "outputs": [
    {
     "data": {
      "text/plain": [
       "23.5"
      ]
     },
     "execution_count": 75,
     "metadata": {},
     "output_type": "execute_result"
    }
   ],
   "source": [
    "range=max(s['mpg'])-min(s['mpg'])\n",
    "range"
   ]
  },
  {
   "cell_type": "markdown",
   "metadata": {},
   "source": [
    "### Question 7\n",
    "\n",
    "Calculate the 25th quantile (lower quantile)for `mpg` in the given dataset.\n",
    "\n",
    "**Hint:** Use **.quantile()**"
   ]
  },
  {
   "cell_type": "code",
   "execution_count": 81,
   "metadata": {},
   "outputs": [
    {
     "data": {
      "text/plain": [
       "15.425"
      ]
     },
     "execution_count": 81,
     "metadata": {},
     "output_type": "execute_result"
    }
   ],
   "source": [
    "s['mpg'].quantile(q=0.25)"
   ]
  },
  {
   "cell_type": "markdown",
   "metadata": {},
   "source": [
    "### Question 8\n",
    "\n",
    "Calculate the Inter-Quartile Range(IQR) for `mpg` in the given dataset."
   ]
  },
  {
   "cell_type": "markdown",
   "metadata": {},
   "source": [
    "Interquartile range (IQR) is another common measure of spread. IQR is the distance between the 3rd quartile and the 1st quartile.\n",
    "\n",
    "**Hint:** IQR = Q3 - Q1"
   ]
  },
  {
   "cell_type": "code",
   "execution_count": 82,
   "metadata": {},
   "outputs": [
    {
     "data": {
      "text/plain": [
       "7.375"
      ]
     },
     "execution_count": 82,
     "metadata": {},
     "output_type": "execute_result"
    }
   ],
   "source": [
    "s['mpg'].quantile(q=0.75)-s['mpg'].quantile(q=0.25)"
   ]
  },
  {
   "cell_type": "markdown",
   "metadata": {},
   "source": [
    "### Question 9\n",
    "\n",
    "Calculate the Variance, Standard Deviation and Median Absolute Deviation for `mpg`."
   ]
  },
  {
   "cell_type": "markdown",
   "metadata": {},
   "source": [
    "Variance and Standard Deviation are two other common measure of dispersion.\n",
    "\n",
    "**Hint:** Use .var() and .std()"
   ]
  },
  {
   "cell_type": "markdown",
   "metadata": {},
   "source": [
    "**Hint:** Median Absolute Deviation - alternative measure of spread based on the median. It is the median of the absolute value of the deviations from the median. "
   ]
  },
  {
   "cell_type": "code",
   "execution_count": 83,
   "metadata": {},
   "outputs": [
    {
     "data": {
      "text/plain": [
       "36.32410282258065"
      ]
     },
     "execution_count": 83,
     "metadata": {},
     "output_type": "execute_result"
    }
   ],
   "source": [
    "s['mpg'].var()"
   ]
  },
  {
   "cell_type": "code",
   "execution_count": 84,
   "metadata": {},
   "outputs": [
    {
     "data": {
      "text/plain": [
       "6.026948052089105"
      ]
     },
     "execution_count": 84,
     "metadata": {},
     "output_type": "execute_result"
    }
   ],
   "source": [
    "s['mpg'].std()"
   ]
  },
  {
   "cell_type": "code",
   "execution_count": 85,
   "metadata": {},
   "outputs": [
    {
     "data": {
      "text/plain": [
       "4.714453125"
      ]
     },
     "execution_count": 85,
     "metadata": {},
     "output_type": "execute_result"
    }
   ],
   "source": [
    "s['mpg'].mad()"
   ]
  },
  {
   "cell_type": "markdown",
   "metadata": {},
   "source": [
    "## Part 3"
   ]
  },
  {
   "cell_type": "markdown",
   "metadata": {},
   "source": [
    "## Probability Distributions"
   ]
  },
  {
   "cell_type": "markdown",
   "metadata": {},
   "source": [
    "The probability distribution describes how a random variable is distributed. It tells us which values a variable is most likely to take on and which values are less likely to take on. "
   ]
  },
  {
   "cell_type": "markdown",
   "metadata": {},
   "source": [
    "Each value in the given range is equally likely to occur. "
   ]
  },
  {
   "cell_type": "code",
   "execution_count": 86,
   "metadata": {},
   "outputs": [],
   "source": [
    "import scipy.stats as stats # Many functions for probability distributions in python are in scipy.stats"
   ]
  },
  {
   "cell_type": "markdown",
   "metadata": {},
   "source": [
    "### Question 10\n",
    "\n",
    "Generate 1000 datapoints with standard normal distribution with mean 0 and standard deviation 1. "
   ]
  },
  {
   "cell_type": "markdown",
   "metadata": {},
   "source": [
    "#### Normal Distribution"
   ]
  },
  {
   "cell_type": "markdown",
   "metadata": {},
   "source": [
    "The normal or Gaussian Distribution is a continuos probability distribution given by a symmetric bell shaped curve. It is defined its center(mean) and spread(std)."
   ]
  },
  {
   "cell_type": "markdown",
   "metadata": {},
   "source": [
    "The bulk of the observations generated from a normal distribution lie near the mean which lies at the center. About 68% of the data lies within 1 std, 95% lies within 2 stds and 99.7% lies within 3 stds.\n",
    "\n",
    "**Hint:** You can use **np.random.normal()** function to generate normal distribution"
   ]
  },
  {
   "cell_type": "code",
   "execution_count": 88,
   "metadata": {},
   "outputs": [
    {
     "data": {
      "text/plain": [
       "array([ 5.38056378e-01, -4.56769560e-01,  1.03859507e+00,  2.64526356e-01,\n",
       "       -2.81633898e-01, -8.03477817e-01, -6.53043190e-01, -5.88007690e-01,\n",
       "       -1.78179692e-01,  1.52097010e+00,  2.59698393e-01, -5.05030492e-01,\n",
       "        3.77421096e-01,  3.07998069e-01,  2.50665675e-01,  3.67729603e-01,\n",
       "       -6.13678097e-01,  2.96761690e-01,  1.05183357e+00, -1.11941611e+00,\n",
       "       -3.95072343e-01, -7.78760515e-02, -1.16278624e+00, -1.74148476e+00,\n",
       "        9.61807168e-01,  3.65403706e-01,  1.32815688e+00,  6.62193006e-01,\n",
       "        5.69832418e-02, -8.59177520e-02, -5.00242335e-01,  4.87525686e-01,\n",
       "        2.34350967e+00, -1.55522485e+00, -5.27291399e-01, -5.86944062e-01,\n",
       "        6.17957678e-01, -1.15482865e+00, -8.60307522e-01, -1.26488457e+00,\n",
       "        1.11139280e+00, -1.89759251e+00,  2.50583416e+00,  4.06818352e-01,\n",
       "       -1.12884222e+00,  1.23229559e-01, -3.45204690e-01,  1.34529484e+00,\n",
       "        2.73543253e-01, -8.82050268e-01, -4.12721355e-01,  8.71217775e-01,\n",
       "       -7.25962190e-01,  1.34791236e+00,  6.83183096e-01, -1.04417511e+00,\n",
       "       -1.11355934e+00,  5.74802858e-01, -1.43269669e+00, -6.61896626e-01,\n",
       "        3.50063407e-02,  3.01114199e-01,  1.31634621e+00,  1.10239794e+00,\n",
       "       -2.43243363e+00, -8.78577008e-01, -7.40806700e-01, -1.89403823e+00,\n",
       "        6.24438016e-01,  3.12264670e-01,  2.44197463e-01,  5.53754468e-01,\n",
       "       -4.37438486e-01,  2.57179421e-01, -1.19959413e+00,  1.07106556e+00,\n",
       "       -1.52946112e+00,  2.97732081e-01,  1.84131008e+00, -1.90782817e-01,\n",
       "       -7.02312168e-02,  1.48121275e-01,  1.35483945e+00,  8.07500974e-01,\n",
       "       -4.71424342e-01, -2.47020064e-01, -6.06834556e-01, -2.42579275e+00,\n",
       "       -1.23731767e+00,  5.79519753e-02,  6.73916935e-01,  1.34920691e+00,\n",
       "       -1.87076524e+00,  1.09092069e-01,  5.64779588e-02,  1.77384127e+00,\n",
       "       -4.74521533e-01,  2.50272200e-01, -1.74145200e-01, -2.81504622e-04,\n",
       "       -2.05500267e+00, -5.90359622e-01,  4.40574097e-01,  1.22716430e-01,\n",
       "        4.55457022e-01, -1.06920549e+00, -2.01063948e+00,  2.01153430e+00,\n",
       "        7.31438461e-01,  1.72002858e+00, -1.88475312e+00, -5.59649160e-01,\n",
       "       -1.16665105e+00,  2.47074314e-01, -4.00840055e-01, -1.20743617e+00,\n",
       "       -1.18893834e-02,  9.86945008e-01, -1.06364571e+00,  8.66722397e-01,\n",
       "       -1.54448300e+00, -1.98559438e+00,  3.53747234e-01, -4.43808298e-02,\n",
       "       -7.13429572e-01,  1.48625752e+00, -6.51740540e-01, -1.14012613e+00,\n",
       "       -6.09854304e-01, -8.09117845e-01, -1.91524150e+00,  4.71725161e-01,\n",
       "        5.95462751e-01, -5.13651097e-02, -1.40781220e+00, -4.67398656e-01,\n",
       "       -5.58269397e-01, -2.72250306e-01,  9.13145157e-01,  1.39957277e+00,\n",
       "       -4.97378556e-01, -8.17731303e-01,  1.10425078e+00, -5.02020299e-01,\n",
       "        7.68865516e-01,  5.23969134e-01, -5.55602903e-01, -8.30102881e-01,\n",
       "       -6.02212524e-01,  9.82127315e-01, -3.48604254e-01, -4.31927154e-02,\n",
       "        1.03492864e+00, -1.77842214e+00,  9.20479499e-01, -3.13508151e-01,\n",
       "       -1.08738237e+00, -1.13621769e+00,  4.93564771e-01, -4.89983479e-01,\n",
       "        6.25521830e-01, -1.75933759e-01, -5.21012971e-02, -2.22690412e+00,\n",
       "       -9.15951914e-01, -3.20848792e-01,  6.42311399e-01, -1.35406469e+00,\n",
       "       -4.32115018e-01, -7.97618648e-01,  5.26946898e-01, -1.36884819e+00,\n",
       "        4.45185590e-01, -3.63646211e-02,  1.05860085e+00, -2.46656490e-01,\n",
       "        1.20254137e-01,  1.82486455e+00, -3.37548995e-01,  4.27232032e-01,\n",
       "        2.23414469e-01, -5.37844189e-01,  1.14321280e+00, -5.13433093e-01,\n",
       "       -4.40557013e-01, -9.76492959e-01, -1.07081022e+00, -7.56444273e-01,\n",
       "       -1.33821628e+00,  1.85610435e-01, -6.06782318e-01, -5.94957170e-01,\n",
       "        4.49533089e-01,  8.31921459e-01,  7.85644922e-01,  1.29306173e+00,\n",
       "        1.30955598e+00,  1.50496811e-01,  1.24678543e-01,  1.64094854e+00,\n",
       "        7.29200664e-01, -1.94696209e+00, -9.98696308e-01,  1.96597371e-01,\n",
       "       -6.34649385e-01, -1.58507860e+00, -4.50445391e-01,  9.58182182e-01,\n",
       "        3.59070127e-01,  3.58008973e-01, -1.14431037e+00, -6.58112184e-02,\n",
       "        2.25915754e-02,  9.46212307e-01,  2.41137722e-01, -1.17365291e+00,\n",
       "        2.50857873e-01,  8.00457087e-01, -8.52018988e-01,  1.18832040e+00,\n",
       "        5.17261504e-02, -2.54875346e-01, -2.56443371e-01,  9.14629071e-02,\n",
       "       -3.65651858e-03,  1.51204958e+00, -1.23110208e-01, -2.47713640e-01,\n",
       "       -6.09971385e-01, -1.09007679e+00, -2.58872922e-01, -1.22875090e+00,\n",
       "       -1.30897270e+00,  9.91804026e-01, -8.82015476e-01,  1.51689241e+00,\n",
       "       -4.96979795e-02, -1.32766478e+00, -1.30870055e+00,  3.70824353e-01,\n",
       "       -1.74156417e-01,  1.31925354e+00,  2.86733218e-01, -5.47614506e-01,\n",
       "        1.16112554e+00,  5.70244718e-01, -5.45751052e-01,  1.32860052e+00,\n",
       "       -5.68364080e-02, -1.46985217e+00, -1.34508321e+00,  6.88393274e-01,\n",
       "       -2.69171059e-01, -1.73137258e+00, -1.21711491e+00, -4.89039212e-01,\n",
       "       -1.20517554e+00, -1.75956731e+00, -6.73494956e-01, -7.70685162e-01,\n",
       "        1.21295167e-01,  9.69358002e-01,  8.71180295e-01,  4.96106884e-01,\n",
       "       -2.53104560e+00, -7.35278200e-01, -1.75671101e+00, -9.09906055e-01,\n",
       "        1.10829943e+00,  1.48751759e-01,  1.67763006e+00,  9.55738597e-01,\n",
       "       -7.72133593e-01, -2.15585824e-01, -1.23138890e+00,  3.90240847e-01,\n",
       "        2.11821884e+00,  1.25182607e+00,  8.40579440e-01, -1.83680484e-01,\n",
       "       -5.63728469e-01, -2.28684368e-01, -4.75906375e-01, -1.12204627e+00,\n",
       "       -5.06007603e-01,  3.19319653e-01,  3.43515797e-01, -3.46902304e-01,\n",
       "       -6.98626689e-01,  1.51951958e+00, -2.10691459e-01, -2.31627862e+00,\n",
       "       -1.32336223e+00, -1.00784901e+00, -1.60683809e+00, -4.11603561e-01,\n",
       "       -4.21984445e-01, -7.70376385e-02, -5.45378234e-02,  3.23476528e-01,\n",
       "       -3.70522639e-01, -2.64038916e-01,  7.44013169e-01,  2.30927124e+00,\n",
       "       -7.58208552e-01,  1.83625585e+00,  4.40078989e-02, -1.07700844e+00,\n",
       "       -4.67137928e-01,  4.66670194e-01,  6.04677059e-01, -8.20741412e-01,\n",
       "       -1.02364152e-02,  9.52993238e-01,  5.59248175e-02,  3.19305101e-01,\n",
       "       -4.79305677e-01, -1.49362795e+00, -6.75227215e-01, -8.93258954e-01,\n",
       "       -1.48949410e+00, -1.24220157e-01, -8.10207643e-01,  6.10087774e-01,\n",
       "        6.70197344e-01, -2.06119829e+00,  8.71132080e-01, -3.86478495e-01,\n",
       "        1.23453093e+00, -2.14802015e-01, -5.25440822e-01,  3.38588058e-01,\n",
       "       -8.00920299e-03, -1.78589393e-01,  1.36601773e+00,  1.42568093e+00,\n",
       "        1.35244146e-01,  1.20716462e+00,  1.62500314e+00, -1.10239284e+00,\n",
       "        2.84772560e-01,  1.43270594e+00, -3.95776129e-01, -1.45439646e-01,\n",
       "       -2.42093175e-01,  8.43390300e-01, -3.11034642e+00, -1.86646321e-02,\n",
       "        1.41135748e+00,  7.25486089e-01, -1.83553571e+00,  9.23884550e-01,\n",
       "        2.30932140e-01, -3.03345832e-01,  4.03045656e-02,  1.82388060e+00,\n",
       "        8.76287563e-01, -6.09673525e-01,  9.36380800e-01,  2.70072765e-01,\n",
       "        3.69839410e-01, -1.12190919e+00, -4.16508883e-01,  3.33965164e-01,\n",
       "        1.95440790e-02,  4.20022705e-01, -4.98078048e-01, -1.43835926e+00,\n",
       "       -1.11897711e-01, -5.31464311e-02, -1.28572093e+00,  4.80070353e-01,\n",
       "       -1.32182107e+00,  1.18406463e+00,  1.88257371e-02,  3.17509407e-01,\n",
       "        1.03528256e+00,  5.59692320e-01, -7.87781024e-01,  4.00829396e-01,\n",
       "       -2.06552252e-01, -7.39101208e-02,  5.32601025e-01,  8.12315838e-02,\n",
       "        1.43609305e+00, -1.88200330e-01, -1.12159163e-02, -5.31616453e-02,\n",
       "       -6.26266778e-01,  2.26940688e-01, -2.61099731e-01,  9.39981204e-01,\n",
       "       -2.85743623e-01,  9.69131120e-01,  1.38803487e-01,  7.30387643e-01,\n",
       "       -7.00153988e-01,  2.50464559e-01, -3.56281792e-01,  3.84721653e-01,\n",
       "       -1.04930059e+00,  1.45008479e+00, -9.68599300e-01, -9.53903636e-01,\n",
       "       -3.37444129e-01, -7.47458999e-01,  8.20387152e-01, -5.46753516e-01,\n",
       "        1.02013213e+00,  9.64064469e-01,  1.85778892e+00,  2.40983468e+00,\n",
       "        5.84512826e-01, -1.40717148e+00,  1.21832325e-01, -8.17501340e-01,\n",
       "        2.84748534e+00,  7.12330427e-01, -4.98742328e-01,  6.78033574e-01,\n",
       "        9.85562626e-01, -3.41712377e-01, -8.31603015e-01,  5.98560446e-01,\n",
       "        1.51669636e-01, -4.05370966e-01,  4.48971289e-01,  5.95485857e-02,\n",
       "        1.16336906e-01,  2.48534222e+00, -2.20859165e-01,  6.32559143e-01,\n",
       "        8.18914759e-02, -5.47091154e-01,  1.51326527e-01, -1.01745690e+00,\n",
       "        3.17507284e-01,  1.35553699e+00, -6.23329991e-01, -6.86803221e-01,\n",
       "       -1.74674335e+00,  7.74862283e-01,  1.17598723e+00,  6.28242335e-01,\n",
       "        1.28763452e+00,  1.32209765e+00, -6.48171029e-02, -7.62937450e-01,\n",
       "        1.40412978e+00, -3.64725520e-01, -2.22247968e-01,  5.93969249e-01,\n",
       "       -2.46036058e+00, -2.04385503e-01, -4.86833605e-01,  1.51100128e+00,\n",
       "        3.83507117e-01, -1.65549674e+00,  2.05960231e+00,  9.35972397e-01,\n",
       "       -7.12446602e-01, -1.26021474e+00, -1.19700467e+00, -1.54266135e-01,\n",
       "        4.11149582e-01, -2.83831389e-01, -8.42453287e-01, -9.14300659e-01,\n",
       "        3.10901237e+00,  3.36444607e-01,  8.93431798e-02, -6.62170157e-01,\n",
       "        7.99933781e-01,  9.44324687e-02,  7.32002583e-01,  1.18935447e+00,\n",
       "        5.60942765e-01, -5.06813204e-01, -3.86168245e-01,  2.67752513e-01,\n",
       "        2.45533154e-01,  8.43878097e-01,  2.21274785e-01, -4.78791903e-01,\n",
       "        1.28858211e+00,  8.20878502e-02, -9.05910396e-01, -4.14245450e-01,\n",
       "        1.46038103e+00,  5.30750120e-01,  4.55546432e-01,  5.47135589e-01,\n",
       "       -1.11412229e+00,  1.32564038e+00, -3.26683881e-01,  7.85970539e-01,\n",
       "       -3.29005639e-01, -2.95072306e-02,  7.91032460e-01,  6.62349744e-01,\n",
       "       -6.68406153e-01, -2.57482582e-01, -1.31530254e+00, -2.50654620e-02,\n",
       "        1.39003390e+00, -5.83633490e-01, -1.30134647e+00,  8.52107707e-01,\n",
       "       -2.30246532e+00, -5.53823797e-01, -1.28780602e+00,  2.37962757e-01,\n",
       "       -2.31000408e-02, -1.68276470e+00,  1.68221040e+00,  2.39191543e-01,\n",
       "        1.48133972e-01,  1.33018548e+00,  9.21379125e-01,  1.49271493e+00,\n",
       "        4.00989215e-01, -5.58584176e-02,  9.68137938e-01,  8.39747680e-01,\n",
       "       -1.01166920e+00,  8.15908047e-01, -1.27602100e+00,  2.09449597e-01,\n",
       "        4.10051267e-01,  3.35911876e-01,  7.30888196e-01, -4.51963117e-01,\n",
       "        5.46627880e-01, -8.22662976e-02,  2.32332905e+00, -1.14174368e+00,\n",
       "       -7.22958346e-03, -2.63818135e+00, -1.27839429e+00,  1.34146809e+00,\n",
       "       -3.44924192e-01, -7.50048799e-02,  9.89136750e-01,  7.15229291e-01,\n",
       "        3.63259113e-01, -7.72075282e-01, -7.41602825e-01,  2.36440742e+00,\n",
       "        4.75047477e-01,  4.58652234e-01, -1.28478931e+00,  8.21076750e-01,\n",
       "       -8.03290909e-01, -7.09115034e-01,  6.66280773e-01, -1.12446103e+00,\n",
       "       -1.09243195e+00, -4.86343427e-01, -7.54753266e-01,  9.73616673e-01,\n",
       "        6.33135093e-01,  1.88741301e-01,  7.29855076e-01,  4.89144333e-01,\n",
       "        8.55210268e-01, -1.85928780e-01,  8.09227509e-01, -3.35811161e-01,\n",
       "       -2.72920537e-01,  3.27791427e-01,  1.05498907e+00, -9.80842762e-01,\n",
       "       -6.58194519e-01, -1.80731260e+00,  1.16741892e+00,  9.94634629e-01,\n",
       "        2.13692165e-01, -7.27413087e-01,  2.43997210e+00, -8.47608715e-01,\n",
       "       -1.07230592e+00,  8.70375786e-02,  5.92591995e-01,  1.40520780e+00,\n",
       "       -1.45453978e-02,  1.71859970e+00,  2.31661684e+00,  1.27794159e+00,\n",
       "       -1.11685804e+00, -1.29077685e+00, -1.36206199e+00, -8.62566016e-01,\n",
       "        2.65341780e-01,  1.02053670e+00, -2.48416188e-01,  1.10705777e+00,\n",
       "       -4.33041523e-02,  2.33111223e-02, -6.64942643e-01,  2.12455016e+00,\n",
       "        2.06267290e+00,  2.28832735e-01,  2.93742258e-01, -4.62208010e-01,\n",
       "       -1.55468241e+00,  1.04935021e+00, -2.09433407e+00,  1.68808467e+00,\n",
       "       -9.86091000e-01, -1.91256182e+00, -1.53250303e+00,  9.04652558e-01,\n",
       "       -1.75656249e+00, -1.08075804e+00,  1.06564870e-01,  5.24145268e-01,\n",
       "       -1.40782952e+00, -2.02015429e-01,  2.84250441e+00, -6.89359393e-01,\n",
       "        1.46300580e+00, -1.30709862e+00, -1.57498493e-01, -5.04031772e-01,\n",
       "        5.58114014e-01, -3.13091211e-01,  1.19002346e+00, -2.07619392e-01,\n",
       "        2.81821925e-01, -6.93134602e-01,  4.30064826e-01,  1.31541877e+00,\n",
       "       -1.02917730e+00,  3.00444203e-02,  1.49189184e+00, -2.45502017e+00,\n",
       "        4.83029749e-01, -2.29160588e-02, -2.76424096e-02,  1.88789238e+00,\n",
       "        1.11048015e+00, -1.76802716e+00, -4.70712000e-01,  1.44728714e-01,\n",
       "        3.16833182e-01, -1.13505726e+00,  3.62824684e-01, -1.70935000e-01,\n",
       "        8.56999375e-02, -8.46799545e-01, -1.11182984e+00, -8.80268284e-01,\n",
       "       -1.08747123e+00, -7.92618681e-01, -1.04815431e+00, -2.58487558e-01,\n",
       "        4.24164340e-01, -2.17009882e+00,  6.61905006e-02, -1.00973214e-01,\n",
       "        1.92546159e+00, -1.14934548e-01,  2.60824034e-01, -5.58481147e-01,\n",
       "        1.21657597e+00, -8.25707026e-01,  1.50212154e+00, -1.34517845e+00,\n",
       "       -2.86185008e-01,  1.18117988e+00,  3.16855155e-01, -1.07194825e+00,\n",
       "        4.15305790e-01, -3.39247818e-01, -2.09475888e+00,  7.71305970e-01,\n",
       "       -6.60927049e-01,  5.36701540e-01,  2.98828282e-01,  8.28637926e-01,\n",
       "        2.80516193e+00,  6.18265774e-01, -1.10533296e+00, -1.82055209e-01,\n",
       "        7.22200023e-01,  1.97360029e+00,  1.07090028e+00, -1.51424775e+00,\n",
       "       -2.18325795e-01, -2.68860191e-01, -1.39139369e+00,  1.05726135e+00,\n",
       "       -5.32503552e-01, -4.01695214e-01,  1.42567915e-01,  4.75970791e-01,\n",
       "        6.87093368e-01, -1.08081747e+00,  1.95132502e-01,  6.11722016e-01,\n",
       "        3.78363538e-01, -7.98227193e-01,  1.00461646e-01,  1.80685727e+00,\n",
       "       -2.46458719e-01, -3.27119406e-01, -5.41127339e-01,  1.27609035e+00,\n",
       "       -1.02022142e-02,  1.01101187e+00,  1.83429158e-01, -1.69307275e+00,\n",
       "        8.57955182e-01, -1.50054181e+00,  1.87445446e+00,  9.52459668e-01,\n",
       "       -2.66426015e-01, -5.93553213e-01,  1.29123536e+00,  8.10867307e-01,\n",
       "        6.89409175e-01,  1.21866024e+00, -1.39964541e-01, -1.58614320e-01,\n",
       "        1.47381298e+00, -1.09286332e+00, -8.62567432e-01, -1.28255181e+00,\n",
       "        7.70327650e-01,  1.65724440e+00,  9.08363448e-01,  3.68506100e-01,\n",
       "        6.65016199e-02, -7.59414336e-01,  1.51010136e-01, -1.90502817e+00,\n",
       "       -1.70558284e+00, -1.13206472e+00,  7.15857750e-02,  1.25355280e+00,\n",
       "       -1.52802395e+00,  1.09165149e+00,  8.66608954e-01,  5.00469185e-01,\n",
       "        1.40919940e+00,  7.20702999e-01,  1.15533234e+00, -2.09770095e-01,\n",
       "        1.44029626e+00, -5.59101661e-01,  1.01098873e+00, -1.28226464e+00,\n",
       "       -8.42504551e-01, -1.85390941e-01,  5.39449794e-02, -7.74568230e-01,\n",
       "       -3.35718743e-02,  9.99591743e-01,  7.32611958e-01, -3.43504309e-01,\n",
       "       -9.80300074e-02, -8.33739271e-02, -1.82335523e+00, -2.26446082e-01,\n",
       "        5.38617073e-01,  2.39653585e-01, -5.37705150e-01, -1.41260679e+00,\n",
       "       -1.31506700e+00,  6.04584742e-01,  1.14744565e+00, -4.21755140e-02,\n",
       "        4.67373091e-01, -2.33785039e+00,  2.59736879e+00, -9.50383123e-01,\n",
       "       -1.12214948e+00,  1.51672576e+00, -1.66401715e-01, -6.39156013e-02,\n",
       "        5.70916629e-01,  3.50622759e-01,  3.65029462e-02, -4.93464015e-01,\n",
       "       -1.11779294e+00,  7.86559850e-01, -1.29207116e-01, -1.03100927e+00,\n",
       "        7.83921140e-01,  8.39943863e-02, -9.15244350e-01, -2.26656443e+00,\n",
       "        2.52113652e-01, -8.07126555e-01, -4.67593633e-01,  2.00880882e+00,\n",
       "        2.67444650e-01,  1.23206807e+00,  4.00538988e-02, -1.57689928e+00,\n",
       "        1.19204112e+00,  4.15487374e-01,  2.40544741e+00, -2.63251689e-01,\n",
       "        1.63094286e+00, -1.06984110e+00, -3.39440261e-01, -1.02625769e-01,\n",
       "       -9.14660220e-01, -5.97800007e-01,  5.71244290e-01, -5.57885502e-02,\n",
       "        9.52154706e-01,  1.12485641e+00,  1.60754157e-01,  9.48587564e-01,\n",
       "       -2.66976541e+00, -8.04870358e-02, -2.07501851e+00, -5.41955436e-01,\n",
       "       -2.99464133e-01, -1.26768283e+00,  1.27704341e+00,  1.45261640e+00,\n",
       "        5.32670686e-01, -8.24484131e-01,  6.94874192e-01, -1.75401459e-01,\n",
       "        9.64467525e-01, -1.19950069e-01,  5.57666335e-01, -4.28961009e-01,\n",
       "        2.81685284e-01,  7.07882855e-01, -2.38394457e-01,  9.67804985e-01,\n",
       "        1.13292374e+00, -9.32381694e-01,  4.06430370e-01, -2.19607860e-01,\n",
       "       -1.52434358e+00,  1.17932887e+00,  1.24412098e+00, -1.74095930e+00,\n",
       "       -3.22655785e-01,  1.11745053e+00, -1.27635785e+00, -1.36083683e+00,\n",
       "       -1.86321018e-01, -4.52918612e-01, -1.07847930e+00, -4.42003848e-01,\n",
       "        1.73319345e-02,  3.38767943e-01, -6.05354960e-01, -1.78548786e-01,\n",
       "       -9.18027293e-01,  1.61751064e+00,  5.67177650e-01,  1.76471076e-01,\n",
       "       -4.81119425e-01,  3.82632118e-01, -4.05314447e-01,  5.65945574e-01,\n",
       "       -2.48616298e-02, -1.23959750e-01,  9.84273499e-01, -1.16619836e+00,\n",
       "        8.11834931e-01, -1.06040758e+00, -1.29535677e+00, -4.80121633e-01,\n",
       "        4.40870230e-01,  2.05453558e-01,  3.47156700e-01,  8.69639637e-01,\n",
       "        8.56742504e-01,  2.08676733e-01,  1.74283300e+00, -1.02221205e+00,\n",
       "        3.89566784e-02, -7.90119383e-01,  1.44441334e-01,  1.00419056e+00,\n",
       "        1.43662033e-01,  1.12162747e+00,  1.48951763e+00, -2.66903204e-01,\n",
       "        2.36181677e-01,  1.16147566e+00,  4.12433037e-01,  7.32624905e-01,\n",
       "       -3.35374464e-01, -1.83470213e-01, -1.64908429e+00, -1.37912398e+00,\n",
       "        1.32629199e+00,  1.40063311e+00,  4.58545800e-01,  2.99503193e-01,\n",
       "       -4.01628051e-01, -8.83432793e-01, -1.24244746e+00,  9.22853151e-01,\n",
       "       -4.30569996e-01,  6.76347467e-01,  5.10649973e-01, -1.44994803e-02,\n",
       "       -1.63272155e+00,  9.21967051e-02,  5.15658609e-01, -1.54586802e+00,\n",
       "        3.12758074e-01, -8.16481067e-01,  1.76244684e+00, -2.97706015e-01,\n",
       "       -1.50976103e-01, -1.76658245e+00, -4.53448787e-01, -6.95376269e-01,\n",
       "        2.95481266e-01, -3.79604165e-01,  5.63597034e-01, -1.26928990e+00,\n",
       "        5.24453599e-01, -6.67372092e-01,  1.98803711e-01, -1.98476118e+00,\n",
       "       -9.15997438e-01, -1.91656610e+00, -1.28823450e+00,  9.05465820e-01,\n",
       "        5.45831961e-01, -6.88980778e-01, -4.72840471e-01, -5.21242638e-01,\n",
       "        8.46822486e-01,  8.55277786e-01, -1.33303458e+00, -4.87400006e-01,\n",
       "       -1.90629674e+00, -4.21364749e-02, -9.26867426e-01, -2.83225329e+00,\n",
       "       -3.32761664e-01, -3.66381456e-01,  3.09600792e-01,  2.19448426e+00,\n",
       "        6.59198158e-01, -1.00994419e+00,  1.97936442e+00,  1.86628518e+00,\n",
       "        1.44867536e+00, -1.18930480e+00, -7.02939740e-01, -4.32603631e-01,\n",
       "        1.17190904e+00,  2.11101248e+00, -1.29047716e-01, -2.71676223e-01,\n",
       "       -1.56312445e+00, -6.14932821e-01, -1.50056831e+00,  1.57451699e+00,\n",
       "        5.17206172e-01,  5.46420373e-03, -6.30042535e-01, -5.24996140e-01,\n",
       "        4.77381866e-01, -1.02277286e+00, -1.40065440e+00,  5.13066404e-01,\n",
       "       -8.63831960e-01,  5.43158110e-01,  4.21962383e-01, -1.85972676e+00,\n",
       "       -1.09758752e+00, -1.44799133e+00, -5.25186131e-01, -5.84751671e-01,\n",
       "       -5.68791950e-02, -2.06996880e+00, -8.60126244e-01, -5.68926525e-01,\n",
       "        2.95195157e-01,  1.59211105e+00,  7.87473818e-01, -1.03324701e+00,\n",
       "        3.63349716e-01, -4.03025413e-01, -2.32269104e+00, -8.89163736e-01,\n",
       "        2.35195831e-01,  6.39096804e-01, -3.34781631e-01, -7.97348296e-01,\n",
       "        1.40086031e+00, -1.01140605e+00, -5.47787274e-01, -1.19842823e+00])"
      ]
     },
     "execution_count": 88,
     "metadata": {},
     "output_type": "execute_result"
    }
   ],
   "source": [
    "np.random.normal(size=1000)"
   ]
  },
  {
   "cell_type": "markdown",
   "metadata": {},
   "source": [
    "## Question 11\n",
    "\n",
    "Generate binomial distribution data for fair coin flipping of size 100. Assume `0` for head and `1` for tail.\n",
    "\n",
    "[ **Hint:** For fair coin flip `p=0.5` ]"
   ]
  },
  {
   "cell_type": "markdown",
   "metadata": {},
   "source": [
    "#### Binomial Distribution"
   ]
  },
  {
   "cell_type": "markdown",
   "metadata": {},
   "source": [
    "It is defined by 2 parameters: the probability of success and the number of trails. It tells about how likely it is possible to get a given number of successes in n trails."
   ]
  },
  {
   "cell_type": "code",
   "execution_count": 90,
   "metadata": {},
   "outputs": [
    {
     "data": {
      "text/plain": [
       "array([50, 47, 54, 46, 52, 51, 40, 48, 41, 51, 49, 48, 56, 61, 47, 47, 47,\n",
       "       44, 41, 53, 42, 52, 55, 47, 53, 45, 52, 54, 51, 54, 47, 52, 49, 51,\n",
       "       50, 43, 50, 42, 47, 52, 53, 50, 41, 47, 42, 56, 53, 54, 40, 51, 64,\n",
       "       52, 40, 49, 46, 51, 50, 40, 53, 54, 55, 46, 53, 45, 49, 50, 46, 44,\n",
       "       40, 44, 53, 52, 42, 52, 56, 56, 47, 41, 52, 46, 43, 45, 47, 51, 48,\n",
       "       44, 60, 50, 48, 53, 48, 56, 51, 46, 55, 40, 54, 54, 48, 46])"
      ]
     },
     "execution_count": 90,
     "metadata": {},
     "output_type": "execute_result"
    }
   ],
   "source": [
    "np.random.binomial(100,0.5,100)"
   ]
  },
  {
   "cell_type": "markdown",
   "metadata": {},
   "source": [
    "#### Visualizing Poisson Distribution"
   ]
  },
  {
   "cell_type": "markdown",
   "metadata": {},
   "source": [
    "It models the probability of seeing certain number of successes within a time interval."
   ]
  },
  {
   "cell_type": "code",
   "execution_count": 133,
   "metadata": {},
   "outputs": [
    {
     "data": {
      "image/png": "[encoded data removed]",
      "text/plain": [
       "<matplotlib.figure.Figure at 0x7f7c10ffbe90>"
      ]
     },
     "metadata": {},
     "output_type": "display_data"
    }
   ],
   "source": [
    "poisson_data = stats.poisson.rvs(size=100,mu=10)\n",
    "\n",
    "pd.DataFrame(poisson_data).hist()\n",
    "\n",
    "plt.show()"
   ]
  }
 ],
 "metadata": {
  "kernelspec": {
   "display_name": "Python 3",
   "language": "python",
   "name": "python3"
  },
  "language_info": {
   "codemirror_mode": {
    "name": "ipython",
    "version": 3
   },
   "file_extension": ".py",
   "mimetype": "text/x-python",
   "name": "python",
   "nbconvert_exporter": "python",
   "pygments_lexer": "ipython3",
   "version": "3.6.5"
  }
 },
 "nbformat": 4,
 "nbformat_minor": 2
}
